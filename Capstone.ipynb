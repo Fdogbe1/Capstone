{
  "nbformat": 4,
  "nbformat_minor": 0,
  "metadata": {
    "colab": {
      "provenance": [],
      "authorship_tag": "ABX9TyOwqJdGZH1YNjS3AAhouedI",
      "include_colab_link": true
    },
    "kernelspec": {
      "name": "python3",
      "display_name": "Python 3"
    },
    "language_info": {
      "name": "python"
    }
  },
  "cells": [
    {
      "cell_type": "markdown",
      "metadata": {
        "id": "view-in-github",
        "colab_type": "text"
      },
      "source": [
        "<a href=\"https://colab.research.google.com/github/Fdogbe1/Capstone/blob/main/Capstone.ipynb\" target=\"_parent\"><img src=\"https://colab.research.google.com/assets/colab-badge.svg\" alt=\"Open In Colab\"/></a>"
      ]
    },
    {
      "cell_type": "code",
      "execution_count": null,
      "metadata": {
        "colab": {
          "base_uri": "https://localhost:8080/"
        },
        "id": "62mf91vxd7af",
        "outputId": "986f2148-6c14-488e-8b11-796535f325f8"
      },
      "outputs": [
        {
          "output_type": "stream",
          "name": "stdout",
          "text": [
            "Mounted at /content/drive\n"
          ]
        }
      ],
      "source": [
        "from google.colab import drive\n",
        "drive.mount('/content/drive')\n",
        "\n"
      ]
    },
    {
      "cell_type": "code",
      "source": [
        "import os\n",
        "\n",
        "folder_path = \"/content/drive/My Drive/Capstone\"\n",
        "\n",
        "# Listing all files in my Capstone folder\n",
        "files = os.listdir(folder_path)\n",
        "print(files)\n"
      ],
      "metadata": {
        "colab": {
          "base_uri": "https://localhost:8080/"
        },
        "id": "fXNunm8-eUcE",
        "outputId": "286e260f-aa21-480e-bd5f-5e181af55d46"
      },
      "execution_count": null,
      "outputs": [
        {
          "output_type": "stream",
          "name": "stdout",
          "text": [
            "['ebd_US_rosgoo_199501_202501_relDec-2024.txt', 'ebd_US_amwpel_199501_202501_relDec-2024.txt', 'ebd_US_balori_199501_202501_relDec-2024.txt', 'ebd_US_rthhum_relDec-2024.txt', 'ebd_US_mallar2_199501_202501_relDec-2024.txt']\n"
          ]
        }
      ]
    },
    {
      "cell_type": "code",
      "source": [
        "import pandas as pd\n",
        "import glob\n",
        "\n",
        "# Defining the folder path\n",
        "folder_path = \"/content/drive/My Drive/Capstone\"\n",
        "\n",
        "# Getting a list of all .txt files in my folder\n",
        "file_list = glob.glob(folder_path + \"/*.txt\")\n",
        "\n",
        "# Reading and concatenating all text files\n",
        "df_list = []\n",
        "for file in file_list:\n",
        "    try:\n",
        "        df = pd.read_csv(file, delimiter=\"\\t\", header=None, dtype=str, on_bad_lines='skip', low_memory=False)\n",
        "        df_list.append(df)\n",
        "    except Exception as e:\n",
        "        print(f\"Error reading {file}: {e}\")\n",
        "\n",
        "# Concatenating all DataFrames\n",
        "combined_df = pd.concat(df_list, ignore_index=True)\n",
        "\n",
        "# Displaying the first few rows\n",
        "print(\"Successfully loaded all files!\")\n",
        "print(combined_df.head())\n",
        "\n",
        "# Saving the combined DataFrame\n",
        "combined_df.to_csv(\"/content/drive/My Drive/Capstone/combined_output.csv\", index=False)\n",
        "print(\"Concatenated file saved successfully!\")\n",
        "\n"
      ],
      "metadata": {
        "colab": {
          "base_uri": "https://localhost:8080/"
        },
        "id": "6M-Mcmbtec80",
        "outputId": "964ec07f-8f6d-40f5-a7de-86e11a4ac615"
      },
      "execution_count": null,
      "outputs": [
        {
          "output_type": "stream",
          "name": "stdout",
          "text": [
            "Successfully loaded all files!\n",
            "                                               0                           1   \\\n",
            "0                        GLOBAL UNIQUE IDENTIFIER            LAST EDITED DATE   \n",
            "1  URN:CornellLabOfOrnithology:EBIRD:OBS333593933         2016-06-22 18:22:50   \n",
            "2  URN:CornellLabOfOrnithology:EBIRD:OBS136321732         2014-02-26 21:46:48   \n",
            "3  URN:CornellLabOfOrnithology:EBIRD:OBS539131197  2024-04-17 21:41:47.133016   \n",
            "4  URN:CornellLabOfOrnithology:EBIRD:OBS136325189         2014-02-26 21:46:48   \n",
            "\n",
            "                2         3                 4             5                6   \\\n",
            "0  TAXONOMIC ORDER  CATEGORY  TAXON CONCEPT ID   COMMON NAME  SCIENTIFIC NAME   \n",
            "1              261   species  avibase-7A24F57F  Ross's Goose     Anser rossii   \n",
            "2              261   species  avibase-7A24F57F  Ross's Goose     Anser rossii   \n",
            "3              261   species  avibase-7A24F57F  Ross's Goose     Anser rossii   \n",
            "4              261   species  avibase-7A24F57F  Ross's Goose     Anser rossii   \n",
            "\n",
            "                       7                           8            9   ...  \\\n",
            "0  SUBSPECIES COMMON NAME  SUBSPECIES SCIENTIFIC NAME  EXOTIC CODE  ...   \n",
            "1                     NaN                         NaN          NaN  ...   \n",
            "2                     NaN                         NaN          NaN  ...   \n",
            "3                     NaN                         NaN          NaN  ...   \n",
            "4                     NaN                         NaN          NaN  ...   \n",
            "\n",
            "                 40                    41                42         43  \\\n",
            "0  NUMBER OBSERVERS  ALL SPECIES REPORTED  GROUP IDENTIFIER  HAS MEDIA   \n",
            "1                 1                     1               NaN          0   \n",
            "2                 2                     0           G341171          0   \n",
            "3               NaN                     0               NaN          0   \n",
            "4                 2                     0           G341171          0   \n",
            "\n",
            "         44        45      46             47  \\\n",
            "0  APPROVED  REVIEWED  REASON  TRIP COMMENTS   \n",
            "1         1         1     NaN            NaN   \n",
            "2         1         1     NaN            NaN   \n",
            "3         1         1     NaN            NaN   \n",
            "4         1         1     NaN            NaN   \n",
            "\n",
            "                                                  48   49  \n",
            "0                                   SPECIES COMMENTS  NaN  \n",
            "1  like snow goose, but rounder head, shorter nec...  NaN  \n",
            "2  Rare bird alert sent us to a greenway in downt...  NaN  \n",
            "3  Details and photos on file UAF Museuem. April ...  NaN  \n",
            "4  Rare bird alert sent us to a greenway in downt...  NaN  \n",
            "\n",
            "[5 rows x 50 columns]\n",
            "Concatenated file saved successfully!\n"
          ]
        }
      ]
    },
    {
      "cell_type": "code",
      "source": [
        "import pandas as pd\n",
        "\n",
        "# Defining the list of states to filter\n",
        "selected_states = [\n",
        "    \"Alabama\", \"Arkansas\", \"Indiana\", \"Illinois\", \"Iowa\", \"Kentucky\",\n",
        "    \"Louisiana\", \"Michigan\", \"Minn\\]sota\", \"Mississippi\", \"Missouri\",\n",
        "    \"Ohio\", \"Tennessee\", \"Wisconsin\"\n",
        "]\n",
        "\n",
        "# Converting state list to lowercase for case-insensitive comparison\n",
        "selected_states_lower = [state.lower() for state in selected_states]\n",
        "\n",
        "# File paths\n",
        "combined_file_path = \"/content/drive/My Drive/Capstone/combined_output.csv\"\n",
        "filtered_file_path = \"/content/drive/My Drive/Capstone/filtered_output.csv\"\n",
        "\n",
        "# Initializing counters\n",
        "total_rows_before = 0\n",
        "total_rows_after = 0\n",
        "\n",
        "# Processing the dataset in chunks to handle large files efficiently\n",
        "with pd.read_csv(combined_file_path, dtype=str, low_memory=False, chunksize=100000, header=1) as reader:\n",
        "\n",
        "    first_chunk = True  # Flag for writing headers in the output file\n",
        "\n",
        "    for chunk in reader:\n",
        "        total_rows_before += len(chunk)  # Count total rows before filtering\n",
        "\n",
        "        # Ensuring the 'STATE' column exists\n",
        "        if \"STATE\" not in chunk.columns:\n",
        "            raise ValueError(f\"Column 'STATE' not found. Available columns: {chunk.columns}\")\n",
        "\n",
        "        # Converting 'State' column to lowercase for case-insensitive matching\n",
        "        chunk[\"STATE\"] = chunk[\"STATE\"].str.lower()\n",
        "\n",
        "        # Filtering dataset to only include selected states\n",
        "        chunk_filtered = chunk[chunk[\"STATE\"].isin(selected_states_lower)]\n",
        "        total_rows_after += len(chunk_filtered)  # Count total rows after filtering\n",
        "\n",
        "        # Appending the filtered data to the output file\n",
        "        chunk_filtered.to_csv(filtered_file_path, mode='a', index=False, header=first_chunk)\n",
        "        first_chunk = False  # Ensure headers are only written once\n",
        "\n",
        "# Print total observations before and after filtering\n",
        "print(f\"Total observations before filtering: {total_rows_before}\")\n",
        "print(f\"Total observations after filtering: {total_rows_after}\")\n",
        "\n",
        "# Print confirmation message\n",
        "print(f\"Filtered dataset saved successfully at: {filtered_file_path}\")\n",
        "\n",
        "\n"
      ],
      "metadata": {
        "colab": {
          "base_uri": "https://localhost:8080/"
        },
        "id": "HKv0x1nuj_Gk",
        "outputId": "1fa9e960-ddb7-4636-9555-14903524e484"
      },
      "execution_count": null,
      "outputs": [
        {
          "output_type": "stream",
          "name": "stdout",
          "text": [
            "Total observations before filtering: 9741164\n",
            "Total observations after filtering: 3382801\n",
            "Filtered dataset saved successfully at: /content/drive/My Drive/Capstone/filtered_output.csv\n"
          ]
        }
      ]
    },
    {
      "cell_type": "code",
      "source": [
        "import pandas as pd\n",
        "\n",
        "# Defining file paths\n",
        "filtered_file_path = \"/content/drive/My Drive/Capstone/filtered_output.csv\"\n",
        "final_subset_file_path = \"/content/drive/My Drive/Capstone/final_subset.csv\"\n",
        "\n",
        "# Defining the required columns\n",
        "required_columns = [\n",
        "    \"GLOBAL UNIQUE IDENTIFIER\", \"COMMON NAME\", \"SCIENTIFIC NAME\", \"OBSERVATION COUNT\",\n",
        "    \"STATE\", \"COUNTY\", \"COUNTY CODE\", \"LOCALITY ID\", \"LOCALITY TYPE\",\n",
        "    \"LATITUDE\", \"LONGITUDE\", \"OBSERVATION DATE\"\n",
        "]\n",
        "\n",
        "# Loading the filtered dataset\n",
        "df_filtered = pd.read_csv(filtered_file_path, dtype=str, low_memory=False)\n",
        "\n",
        "# Ensuring that the required columns exist\n",
        "missing_cols = [col for col in required_columns if col not in df_filtered.columns]\n",
        "if missing_cols:\n",
        "    raise ValueError(f\"Missing columns: {missing_cols}. Available columns: {df_filtered.columns}\")\n",
        "\n",
        "# Keeping only the required columns\n",
        "df_subset = df_filtered[required_columns]\n",
        "\n",
        "# Saved the final subset to a new file in my drive\n",
        "df_subset.to_csv(final_subset_file_path, index=False)\n",
        "\n",
        "# Print confirmation message\n",
        "print(f\"Subsetted dataset saved successfully at: {final_subset_file_path}\")\n",
        "print(f\"Number of rows in subset: {df_subset.shape[0]}\")\n",
        "print(f\"Number of columns in subset: {df_subset.shape[1]}\")\n",
        "\n"
      ],
      "metadata": {
        "colab": {
          "base_uri": "https://localhost:8080/"
        },
        "id": "IJm6czHjy6yc",
        "outputId": "f8bae732-b44d-48c3-b69f-749c8bf6638f"
      },
      "execution_count": null,
      "outputs": [
        {
          "output_type": "stream",
          "name": "stdout",
          "text": [
            "Subsetted dataset saved successfully at: /content/drive/My Drive/Capstone/final_subset.csv\n",
            "Number of rows in subset: 6267848\n",
            "Number of columns in subset: 12\n"
          ]
        }
      ]
    },
    {
      "cell_type": "code",
      "source": [
        "import pandas as pd\n",
        "import urllib.request\n",
        "\n",
        "# Define file URLs\n",
        "file1_url = \"https://www.ncei.noaa.gov/orders/cdo/3930618.txt\"\n",
        "file2_url = \"https://www.ncei.noaa.gov/orders/cdo/3930631.txt\"\n",
        "\n",
        "# Define local file paths\n",
        "file1_path = \"/content/3930618.txt\"\n",
        "file2_path = \"/content/3930631.txt\"\n",
        "merged_file_path = \"/content/merged_data.csv\"\n",
        "\n",
        "# Download the TXT files\n",
        "urllib.request.urlretrieve(file1_url, file1_path)\n",
        "urllib.request.urlretrieve(file2_url, file2_path)\n",
        "\n",
        "print(\"Files downloaded successfully!\")\n",
        "\n",
        "# Read the fixed-width formatted files\n",
        "df1 = pd.read_fwf(file1_path, dtype=str)\n",
        "df2 = pd.read_fwf(file2_path, dtype=str)\n",
        "\n",
        "# Merge the DataFrames\n",
        "df_combined = pd.concat([df1, df2], ignore_index=True)\n",
        "\n",
        "# Save the merged dataset\n",
        "df_combined.to_csv(merged_file_path, index=False)\n",
        "\n",
        "# Print confirmation\n",
        "print(f\"Merged dataset saved successfully at: {merged_file_path}\")\n",
        "print(f\"Number of rows: {df_combined.shape[0]}\")\n",
        "print(f\"Number of columns: {df_combined.shape[1]}\")\n",
        "\n"
      ],
      "metadata": {
        "colab": {
          "base_uri": "https://localhost:8080/"
        },
        "id": "KRyUbvDPcTdh",
        "outputId": "15493709-7b42-44b7-d716-e0f6d2f6fd3b"
      },
      "execution_count": null,
      "outputs": [
        {
          "output_type": "stream",
          "name": "stdout",
          "text": [
            "Files downloaded successfully!\n",
            "Merged dataset saved successfully at: /content/merged_data.csv\n",
            "Number of rows: 143845\n",
            "Number of columns: 35\n"
          ]
        }
      ]
    },
    {
      "cell_type": "code",
      "source": [
        "import pandas as pd\n",
        "import urllib.request\n",
        "from google.colab import drive\n",
        "\n",
        "# Mounting my Google Drive\n",
        "drive.mount('/content/drive')\n",
        "\n",
        "# Defining the Google Drive file path\n",
        "capstone_drive_path = \"/content/drive/My Drive/Capstone/merged_data.csv\"\n",
        "\n",
        "# Defining the file URLs\n",
        "file1_url = \"https://www.ncei.noaa.gov/orders/cdo/3930618.txt\"\n",
        "file2_url = \"https://www.ncei.noaa.gov/orders/cdo/3930631.txt\"\n",
        "\n",
        "# Defining the local file paths in Colab\n",
        "file1_path = \"/content/3930618.txt\"\n",
        "file2_path = \"/content/3930631.txt\"\n",
        "\n",
        "# Download the TXT files\n",
        "urllib.request.urlretrieve(file1_url, file1_path)\n",
        "urllib.request.urlretrieve(file2_url, file2_path)\n",
        "\n",
        "print(\"Files downloaded successfully!\")\n",
        "\n",
        "# Reading the fixed-width formatted files\n",
        "df1 = pd.read_fwf(file1_path, dtype=str)\n",
        "df2 = pd.read_fwf(file2_path, dtype=str)\n",
        "\n",
        "# Merging the DataFrames - If this doesn't work, I will try another method\n",
        "df_combined = pd.concat([df1, df2], ignore_index=True)\n",
        "\n",
        "# Saving the merged dataset to Google Drive (Capstone Folder)\n",
        "df_combined.to_csv(capstone_drive_path, index=False)\n",
        "\n",
        "# Print a confirmation\n",
        "print(f\"Merged dataset saved successfully at: {capstone_drive_path}\")\n",
        "print(f\"Number of rows: {df_combined.shape[0]}\")\n",
        "print(f\"Number of columns: {df_combined.shape[1]}\")\n"
      ],
      "metadata": {
        "colab": {
          "base_uri": "https://localhost:8080/"
        },
        "id": "SGMNoczDgvFs",
        "outputId": "0ed4c95d-2538-4e62-fa2e-2c36f5520ffb"
      },
      "execution_count": 3,
      "outputs": [
        {
          "output_type": "stream",
          "name": "stdout",
          "text": [
            "Mounted at /content/drive\n",
            "Files downloaded successfully!\n",
            "Merged dataset saved successfully at: /content/drive/My Drive/Capstone/merged_data.csv\n",
            "Number of rows: 143845\n",
            "Number of columns: 35\n"
          ]
        }
      ]
    },
    {
      "cell_type": "code",
      "source": [
        "import pandas as pd\n",
        "import urllib.request\n",
        "from google.colab import drive\n",
        "\n",
        "\n",
        "# Defining file paths again\n",
        "csv_url = \"https://www.ncei.noaa.gov/orders/cdo/3931867.csv\"\n",
        "csv_path = \"/content/3931867.csv\"\n",
        "updated_csv_path = \"/content/drive/My Drive/Capstone/3931867_with_state_abbr_fixed.csv\"\n",
        "\n",
        "# Download the dataset\n",
        "urllib.request.urlretrieve(csv_url, csv_path)\n",
        "print(\"Dataset downloaded successfully!\")\n",
        "\n",
        "# Loading my datasets\n",
        "df = pd.read_csv(csv_path, dtype=str)\n",
        "\n",
        "# Printing column names to verify 'STATION' exists -quick validation\n",
        "print(\"Columns in dataset:\", df.columns)\n",
        "\n",
        "# Defining station-to-state abbreviation mapping (without \"GHCND:\") - Data cleaning\n",
        "station_state_mapping = {\n",
        "    \"USC00010160\": \"AL\",  # Alabama\n",
        "    \"USC00164775\": \"LA\",  # Louisiana\n",
        "    \"USC00201492\": \"MI\",  # Michigan\n",
        "    \"USC00215488\": \"MN\",  # Minnesota\n",
        "    \"USC00222034\": \"MS\",  # Mississippi\n",
        "    \"USC00238984\": \"MO\",  # Missouri\n",
        "    \"USW00003804\": \"OH\",  # Ohio\n",
        "    \"USC00402806\": \"TN\",  # Tennessee\n",
        "    \"USC00479319\": \"WI\",  # Wisconsin\n",
        "    \"USC00032978\": \"AR\",  # Arkansas\n",
        "    \"USC00122731\": \"IN\",  # Indiana\n",
        "    \"USC00114355\": \"IL\",  # Illinois\n",
        "    \"USC00131442\": \"IA\",  # Iowa\n",
        "    \"USW00093814\": \"KY\"   # Kentucky\n",
        "}\n",
        "\n",
        "# Normalizing 'STATION' column (strip spaces, uppercase for consistency)\n",
        "df[\"STATION\"] = df[\"STATION\"].str.strip()\n",
        "\n",
        "# Debugging mismatches\n",
        "print(\"Unique STATION values in dataset:\", df[\"STATION\"].unique())\n",
        "\n",
        "# mapping and filling missing values with 'Unknown'\n",
        "df[\"State\"] = df[\"STATION\"].map(station_state_mapping).fillna(\"Unknown\")\n",
        "\n",
        "# Printing unique values in the new 'State' column to verify\n",
        "print(\"Unique State values after mapping:\", df[\"State\"].unique())\n",
        "\n",
        "# Save the updated dataset in Capstone Drive\n",
        "df.to_csv(updated_csv_path, index=False)\n",
        "print(f\"Updated dataset with two-letter state abbreviations saved at: {updated_csv_path}\")\n",
        "\n",
        "# Displaying dataset information - Validating record counts.\n",
        "num_rows, num_columns = df.shape\n",
        "print(f\"Total Number of Observations (Rows): {num_rows}\")\n",
        "print(f\"Total Number of Columns: {num_columns}\")\n",
        "\n",
        "# first few observations to verify the 'State' column i.e if it works\n",
        "print(\"\\nFirst Few Observations with 'State' column:\")\n",
        "print(df[[\"STATION\", \"State\"]].head(10))\n",
        "\n",
        "\n"
      ],
      "metadata": {
        "colab": {
          "base_uri": "https://localhost:8080/"
        },
        "id": "Q6H50OYawKfY",
        "outputId": "a49d242f-3600-4761-898b-2534502052fc"
      },
      "execution_count": 14,
      "outputs": [
        {
          "output_type": "stream",
          "name": "stdout",
          "text": [
            "Drive already mounted at /content/drive; to attempt to forcibly remount, call drive.mount(\"/content/drive\", force_remount=True).\n",
            "Dataset downloaded successfully!\n",
            "Columns in dataset: Index(['STATION', 'NAME', 'LATITUDE', 'LONGITUDE', 'ELEVATION', 'DATE', 'DAPR',\n",
            "       'DAPR_ATTRIBUTES', 'DASF', 'DASF_ATTRIBUTES', 'MDPR', 'MDPR_ATTRIBUTES',\n",
            "       'MDSF', 'MDSF_ATTRIBUTES', 'PRCP', 'PRCP_ATTRIBUTES', 'SNOW',\n",
            "       'SNOW_ATTRIBUTES', 'SNWD', 'SNWD_ATTRIBUTES', 'TAVG', 'TAVG_ATTRIBUTES',\n",
            "       'TMAX', 'TMAX_ATTRIBUTES', 'TMIN', 'TMIN_ATTRIBUTES', 'TOBS',\n",
            "       'TOBS_ATTRIBUTES'],\n",
            "      dtype='object')\n",
            "Unique STATION values in dataset: ['USW00093814' 'USC00479319' 'USC00238984' 'USC00201492' 'USC00131442'\n",
            " 'USC00122731' 'USC00032978' 'USC00215488' 'USW00003804' 'USC00402806'\n",
            " 'USC00164775' 'USC00222034' 'USC00114355' 'USC00010160']\n",
            "Unique State values after mapping: ['KY' 'WI' 'MO' 'MI' 'IA' 'IN' 'AR' 'MN' 'OH' 'TN' 'LA' 'MS' 'IL' 'AL']\n",
            "Updated dataset with two-letter state abbreviations saved at: /content/drive/My Drive/Capstone/3931867_with_state_abbr_fixed.csv\n",
            "Total Number of Observations (Rows): 146705\n",
            "Total Number of Columns: 29\n",
            "\n",
            "First Few Observations with 'State' column:\n",
            "       STATION State\n",
            "0  USW00093814    KY\n",
            "1  USW00093814    KY\n",
            "2  USW00093814    KY\n",
            "3  USW00093814    KY\n",
            "4  USW00093814    KY\n",
            "5  USW00093814    KY\n",
            "6  USW00093814    KY\n",
            "7  USW00093814    KY\n",
            "8  USW00093814    KY\n",
            "9  USW00093814    KY\n"
          ]
        }
      ]
    },
    {
      "cell_type": "code",
      "source": [
        "import pandas as pd\n",
        "\n",
        "# Loading the updated dataset\n",
        "updated_csv_path = \"/content/drive/My Drive/Capstone/3931867_with_state_abbr_fixed.csv\"\n",
        "df = pd.read_csv(updated_csv_path, dtype=str)\n",
        "\n",
        "# Counting distinct states to make sure we have all 14 in our Mississippi Flway Belt\n",
        "unique_states = df[\"State\"].nunique()\n",
        "print(f\"Total number of distinct states in the dataset: {unique_states}\")\n",
        "\n",
        "# Display unique state values\n",
        "print(\"List of distinct states in the dataset:\", df[\"State\"].unique())\n"
      ],
      "metadata": {
        "colab": {
          "base_uri": "https://localhost:8080/"
        },
        "id": "fVBmXRurzTzU",
        "outputId": "abca2981-2613-43a9-b01b-9dd037abacd2"
      },
      "execution_count": 15,
      "outputs": [
        {
          "output_type": "stream",
          "name": "stdout",
          "text": [
            "Total number of distinct states in the dataset: 14\n",
            "List of distinct states in the dataset: ['KY' 'WI' 'MO' 'MI' 'IA' 'IN' 'AR' 'MN' 'OH' 'TN' 'LA' 'MS' 'IL' 'AL']\n"
          ]
        }
      ]
    },
    {
      "cell_type": "code",
      "source": [
        "import pandas as pd\n",
        "\n",
        "\n",
        "updated_csv_path = \"/content/drive/My Drive/Capstone/3931867_with_state_abbr_fixed.csv\"\n",
        "cleaned_csv_path = \"/content/drive/My Drive/Capstone/3931867_cleaned.csv\"\n",
        "\n",
        "\n",
        "df = pd.read_csv(updated_csv_path, dtype=str)\n",
        "\n",
        "# Data cleaning - Removing commas from all values\n",
        "df = df.replace(\",\", \"\", regex=True)\n",
        "\n",
        "# Defining the columns to drop - These Variables were mostly blanks - Talk to the team team about it!!\n",
        "columns_to_drop = [\n",
        "    \"DAPR\", \"DAPR_ATTRIBUTES\", \"DASF\", \"DASF_ATTRIBUTES\",\n",
        "    \"MDPR\", \"MDPR_ATTRIBUTES\", \"MDSF\", \"MDSF_ATTRIBUTES\",\n",
        "    \"TAVG\", \"TAVG_ATTRIBUTES\"\n",
        "]\n",
        "\n",
        "# Drop the specified columns (if they exist)\n",
        "df = df.drop(columns=[col for col in columns_to_drop if col in df.columns], errors=\"ignore\")\n",
        "\n",
        "# Saving the cleaned dataset\n",
        "df.to_csv(cleaned_csv_path, index=False)\n",
        "\n",
        "print(f\"✅ Cleaned dataset saved at: {cleaned_csv_path}\")\n",
        "\n",
        "# Display dataset summary\n",
        "num_rows, num_columns = df.shape\n",
        "print(f\"Total Rows: {num_rows}, Total Columns: {num_columns}\")\n",
        "\n",
        "# Show the first few rows to verify changes\n",
        "print(\"\\nFirst few rows after cleaning:\")\n",
        "print(df.head())\n",
        "\n"
      ],
      "metadata": {
        "colab": {
          "base_uri": "https://localhost:8080/"
        },
        "id": "_auPDNRhz2dQ",
        "outputId": "5234bc4b-b496-4927-d26a-d1aa56e6b823"
      },
      "execution_count": 17,
      "outputs": [
        {
          "output_type": "stream",
          "name": "stdout",
          "text": [
            "✅ Cleaned dataset saved at: /content/drive/My Drive/Capstone/3931867_cleaned.csv\n",
            "Total Rows: 146705, Total Columns: 19\n",
            "\n",
            "First few rows after cleaning:\n",
            "       STATION                                               NAME  LATITUDE  \\\n",
            "0  USW00093814  CINCINNATI NORTHERN KENTUCKY INTERNATIONAL AIR...  39.04443   \n",
            "1  USW00093814  CINCINNATI NORTHERN KENTUCKY INTERNATIONAL AIR...  39.04443   \n",
            "2  USW00093814  CINCINNATI NORTHERN KENTUCKY INTERNATIONAL AIR...  39.04443   \n",
            "3  USW00093814  CINCINNATI NORTHERN KENTUCKY INTERNATIONAL AIR...  39.04443   \n",
            "4  USW00093814  CINCINNATI NORTHERN KENTUCKY INTERNATIONAL AIR...  39.04443   \n",
            "\n",
            "   LONGITUDE ELEVATION        DATE  PRCP PRCP_ATTRIBUTES SNOW SNOW_ATTRIBUTES  \\\n",
            "0  -84.67241     262.4  1995-01-01  0.04           02400  0.1               0   \n",
            "1  -84.67241     262.4  1995-01-02  0.00          T02400  0.1               0   \n",
            "2  -84.67241     262.4  1995-01-03  0.00          T02400  0.0              T0   \n",
            "3  -84.67241     262.4  1995-01-04  0.00          T02400  0.0              T0   \n",
            "4  -84.67241     262.4  1995-01-05  0.00           02400  0.0               0   \n",
            "\n",
            "  SNWD SNWD_ATTRIBUTES TMAX TMAX_ATTRIBUTES TMIN TMIN_ATTRIBUTES TOBS  \\\n",
            "0  0.0               0   46               0   24               0  NaN   \n",
            "1  0.0              T0   28               0   13               0  NaN   \n",
            "2  0.0              T0   32               0   18               0  NaN   \n",
            "3  0.0              T0   19               0    6               0  NaN   \n",
            "4  0.0               0   23               0    1               0  NaN   \n",
            "\n",
            "  TOBS_ATTRIBUTES State  \n",
            "0             NaN    KY  \n",
            "1             NaN    KY  \n",
            "2             NaN    KY  \n",
            "3             NaN    KY  \n",
            "4             NaN    KY  \n"
          ]
        }
      ]
    },
    {
      "cell_type": "code",
      "source": [
        "bird_data_path = \"/content/drive/MyDrive/Capstone/final_subset.csv\"\n",
        "climate_data_path = \"/content/drive/MyDrive/Capstone/3931867_cleaned.csv\"\n"
      ],
      "metadata": {
        "id": "KHyk2_Vct2ZA"
      },
      "execution_count": 4,
      "outputs": []
    },
    {
      "cell_type": "code",
      "source": [
        "from google.colab import drive\n",
        "drive.mount('/content/drive', force_remount=True)\n"
      ],
      "metadata": {
        "colab": {
          "base_uri": "https://localhost:8080/"
        },
        "id": "RFCrRUKuuU8G",
        "outputId": "9a158cbf-664c-4ea2-a3d3-5cf10d90f17a"
      },
      "execution_count": 8,
      "outputs": [
        {
          "output_type": "stream",
          "name": "stdout",
          "text": [
            "Mounted at /content/drive\n"
          ]
        }
      ]
    },
    {
      "cell_type": "code",
      "source": [
        "print(\"Columns in Bird Dataset:\", df_bird.columns.tolist())\n",
        "print(\"Columns in Climate Dataset:\", df_climate.columns.tolist())\n"
      ],
      "metadata": {
        "colab": {
          "base_uri": "https://localhost:8080/"
        },
        "id": "j0s-8949uzSz",
        "outputId": "618eeb62-8c91-4f90-b791-563c5bf9eb79"
      },
      "execution_count": 10,
      "outputs": [
        {
          "output_type": "stream",
          "name": "stdout",
          "text": [
            "Columns in Bird Dataset: ['GLOBAL UNIQUE IDENTIFIER', 'COMMON NAME', 'SCIENTIFIC NAME', 'OBSERVATION COUNT', 'STATE', 'COUNTY', 'COUNTY CODE', 'LOCALITY ID', 'LOCALITY TYPE', 'Latitude', 'Longitude', 'OBSERVATION DATE']\n",
            "Columns in Climate Dataset: ['STATION', 'NAME', 'Latitude', 'Longitude', 'ELEVATION', 'Date', 'PRCP', 'PRCP_ATTRIBUTES', 'SNOW', 'SNOW_ATTRIBUTES', 'SNWD', 'SNWD_ATTRIBUTES', 'TMAX', 'TMAX_ATTRIBUTES', 'TMIN', 'TMIN_ATTRIBUTES', 'TOBS', 'TOBS_ATTRIBUTES', 'State']\n"
          ]
        }
      ]
    },
    {
      "cell_type": "code",
      "source": [
        "import pandas as pd\n",
        "from scipy.spatial import cKDTree\n",
        "\n",
        "bird_data_path = \"/content/drive/My Drive/Capstone/final_subset.csv\"\n",
        "climate_data_path = \"/content/drive/My Drive/Capstone/3931867_cleaned.csv\"\n",
        "unified_csv_path = \"/content/drive/My Drive/Capstone/unified_dataset.csv\"\n",
        "\n",
        "df_bird = pd.read_csv(bird_data_path, dtype=str)\n",
        "df_climate = pd.read_csv(climate_data_path, dtype=str)\n",
        "\n",
        "# Renaming columns to ensure consistency - Data cleaning steps again.\n",
        "df_bird.rename(columns={\"OBSERVATION DATE\": \"Date\", \"LATITUDE\": \"Latitude\", \"LONGITUDE\": \"Longitude\", \"STATE\": \"State\"}, inplace=True)\n",
        "df_climate.rename(columns={\"DATE\": \"Date\", \"LATITUDE\": \"Latitude\", \"LONGITUDE\": \"Longitude\"}, inplace=True)\n",
        "\n",
        "# Convert State values to uppercase\n",
        "df_bird[\"State\"] = df_bird[\"State\"].str.upper()\n",
        "df_climate[\"State\"] = df_climate[\"State\"].str.upper()\n",
        "\n",
        "# Defining full state name to abbreviation mapping\n",
        "state_abbreviation_mapping = {\n",
        "    \"ALABAMA\": \"AL\", \"ARKANSAS\": \"AR\", \"IOWA\": \"IA\", \"ILLINOIS\": \"IL\", \"INDIANA\": \"IN\",\n",
        "    \"KENTUCKY\": \"KY\", \"LOUISIANA\": \"LA\", \"MICHIGAN\": \"MI\", \"MINNESOTA\": \"MN\", \"MISSOURI\": \"MO\",\n",
        "    \"MISSISSIPPI\": \"MS\", \"OHIO\": \"OH\", \"TENNESSEE\": \"TN\", \"WISCONSIN\": \"WI\"\n",
        "}\n",
        "\n",
        "#  Convert full state names to two-letter abbreviations in bird dataset\n",
        "df_bird[\"State\"] = df_bird[\"State\"].replace(state_abbreviation_mapping)\n",
        "\n",
        "# Verify updated unique state values\n",
        "print(\"Unique States in Bird Dataset (after conversion):\", df_bird[\"State\"].unique())\n",
        "print(\"Unique States in Climate Dataset:\", df_climate[\"State\"].unique())\n",
        "\n",
        "# Convert 'Date' to datetime format\n",
        "df_bird[\"Date\"] = pd.to_datetime(df_bird[\"Date\"], errors=\"coerce\")\n",
        "df_climate[\"Date\"] = pd.to_datetime(df_climate[\"Date\"], errors=\"coerce\")\n",
        "\n",
        "# Drop rows with missing values in key columns\n",
        "df_bird.dropna(subset=[\"Date\", \"Latitude\", \"Longitude\"], inplace=True)\n",
        "df_climate.dropna(subset=[\"Date\", \"Latitude\", \"Longitude\"], inplace=True)\n",
        "\n",
        "# Performing spatial-temporal nearest-neighbor merge (This is an important step - research more if this method doesn't work)\n",
        "def merge_nearest(df1, df2):\n",
        "    \"\"\"\n",
        "    Merges df1 and df2 based on the nearest geospatial (lat/lon) and temporal (date) match.\n",
        "    \"\"\"\n",
        "    # Convert coordinates to numpy arrays\n",
        "    tree = cKDTree(df2[[\"Latitude\", \"Longitude\"]].values)\n",
        "\n",
        "    # Find the nearest neighbor in climate dataset for each bird record\n",
        "    distances, indices = tree.query(df1[[\"Latitude\", \"Longitude\"]].values)\n",
        "\n",
        "    # Get the best matching climate data for each bird observation\n",
        "    df_climate_matched = df2.iloc[indices].reset_index(drop=True)\n",
        "\n",
        "    # Combine datasets\n",
        "    df_merged = pd.concat([df1.reset_index(drop=True), df_climate_matched], axis=1)\n",
        "\n",
        "    return df_merged\n",
        "\n",
        "# Merge the datasets\n",
        "df_unified = merge_nearest(df_bird, df_climate)\n",
        "\n",
        "# Save the unified dataset\n",
        "df_unified.to_csv(unified_csv_path, index=False)\n",
        "\n",
        "print(f\"✅ Unified dataset saved at: {unified_csv_path}\")\n",
        "\n",
        "# Display dataset summary\n",
        "num_rows, num_columns = df_unified.shape\n",
        "print(f\"Total Rows: {num_rows}, Total Columns: {num_columns}\")\n",
        "\n",
        "# Show the first few rows to verify the merge\n",
        "print(\"\\nFirst few rows of the unified dataset:\")\n",
        "print(df_unified.head())\n"
      ],
      "metadata": {
        "colab": {
          "base_uri": "https://localhost:8080/"
        },
        "id": "ODZNnujmtDPc",
        "outputId": "613c4121-687b-48e2-ea8c-d7365b247eaf"
      },
      "execution_count": 1,
      "outputs": [
        {
          "output_type": "stream",
          "name": "stdout",
          "text": [
            "Unique States in Bird Dataset (after conversion): ['AL' 'AR' 'IA' 'IL' 'IN' 'KY' 'LA' 'MI' 'MN' 'MO' 'MS' 'OH' 'TN' 'WI'\n",
            " 'STATE']\n",
            "Unique States in Climate Dataset: ['KY' 'WI' 'MO' 'MI' 'IA' 'IN' 'AR' 'MN' 'OH' 'TN' 'LA' 'MS' 'IL' 'AL']\n",
            "✅ Unified dataset saved at: /content/drive/My Drive/Capstone/unified_dataset.csv\n",
            "Total Rows: 6267847, Total Columns: 31\n",
            "\n",
            "First few rows of the unified dataset:\n",
            "                         GLOBAL UNIQUE IDENTIFIER   COMMON NAME  \\\n",
            "0   URN:CornellLabOfOrnithology:EBIRD:OBS38907567  Ross's Goose   \n",
            "1  URN:CornellLabOfOrnithology:EBIRD:OBS131197093  Ross's Goose   \n",
            "2  URN:CornellLabOfOrnithology:EBIRD:OBS101398772  Ross's Goose   \n",
            "3  URN:CornellLabOfOrnithology:EBIRD:OBS103295589  Ross's Goose   \n",
            "4  URN:CornellLabOfOrnithology:EBIRD:OBS233214908  Ross's Goose   \n",
            "\n",
            "  SCIENTIFIC NAME OBSERVATION COUNT State   COUNTY COUNTY CODE LOCALITY ID  \\\n",
            "0    Anser rossii                 1    AL  Baldwin   US-AL-003     L367330   \n",
            "1    Anser rossii                 1    AL  Baldwin   US-AL-003    L1071772   \n",
            "2    Anser rossii                 1    AL  Baldwin   US-AL-003     L626326   \n",
            "3    Anser rossii                 1    AL  Baldwin   US-AL-003    L1041976   \n",
            "4    Anser rossii                 3    AL  Baldwin   US-AL-003    L2609432   \n",
            "\n",
            "  LOCALITY TYPE    Latitude  ... SNOW_ATTRIBUTES SNWD SNWD_ATTRIBUTES TMAX  \\\n",
            "0             P  30.6802183  ...              P0  0.0              P0  NaN   \n",
            "1             P  30.3364725  ...              P0  0.0              P0  NaN   \n",
            "2             H  30.2529785  ...              P0  0.0              P0  NaN   \n",
            "3             P  30.5774476  ...              P0  0.0              P0  NaN   \n",
            "4             P  30.4080614  ...              P0  0.0              P0  NaN   \n",
            "\n",
            "  TMAX_ATTRIBUTES TMIN TMIN_ATTRIBUTES TOBS TOBS_ATTRIBUTES State  \n",
            "0             NaN  NaN             NaN  NaN             NaN    MS  \n",
            "1             NaN  NaN             NaN  NaN             NaN    MS  \n",
            "2             NaN  NaN             NaN  NaN             NaN    MS  \n",
            "3             NaN  NaN             NaN  NaN             NaN    MS  \n",
            "4             NaN  NaN             NaN  NaN             NaN    MS  \n",
            "\n",
            "[5 rows x 31 columns]\n"
          ]
        }
      ]
    },
    {
      "cell_type": "code",
      "source": [
        "from google.colab import drive\n",
        "drive.mount(\"/content/drive\", force_remount=True)\n"
      ],
      "metadata": {
        "colab": {
          "base_uri": "https://localhost:8080/"
        },
        "id": "F9hZJANZeXgR",
        "outputId": "60e304c6-2221-4e9a-ecee-57cf53a2dc33"
      },
      "execution_count": 4,
      "outputs": [
        {
          "output_type": "stream",
          "name": "stdout",
          "text": [
            "Mounted at /content/drive\n"
          ]
        }
      ]
    },
    {
      "cell_type": "code",
      "source": [
        "import glob\n",
        "\n",
        "file_list = glob.glob(\"/content/drive/My Drive/Capstone/*.csv\")\n",
        "print(\"Available CSV files:\", file_list)\n"
      ],
      "metadata": {
        "colab": {
          "base_uri": "https://localhost:8080/"
        },
        "id": "vTN98gDtfL6P",
        "outputId": "69553f09-4fc6-4ae5-9fde-cc2d2fd68a66"
      },
      "execution_count": 6,
      "outputs": [
        {
          "output_type": "stream",
          "name": "stdout",
          "text": [
            "Available CSV files: ['/content/drive/My Drive/Capstone/final_subset.csv', '/content/drive/My Drive/Capstone/3931867_cleaned.csv', '/content/drive/My Drive/Capstone/unified_dataset.csv', '/content/drive/My Drive/Capstone/nlcd_collection_lndcov_67b0a3fece0c2096.csv']\n"
          ]
        }
      ]
    },
    {
      "cell_type": "code",
      "source": [
        "import pandas as pd\n",
        "\n",
        "land_cover_dataset_path = \"/content/drive/My Drive/Capstone/nlcd_collection_lndcov_67b0a3fece0c2096.csv\"\n",
        "\n",
        "# Attempt different encodings (LAND DATA encoding keeps giving me different errors!!!!!!!!!)\n",
        "encodings = [\"utf-8\", \"ISO-8859-1\", \"latin1\"]\n",
        "\n",
        "for encoding in encodings:\n",
        "    try:\n",
        "        df_land_cover = pd.read_csv(land_cover_dataset_path, dtype=str, encoding=encoding)\n",
        "        print(f\"✅ File loaded successfully using encoding: {encoding}\")\n",
        "        break\n",
        "    except UnicodeDecodeError:\n",
        "        print(f\"❌ Failed with encoding: {encoding}\")\n",
        "        df_land_cover = None\n",
        "\n",
        "# Display dataset info if successfully loaded\n",
        "if df_land_cover is not None:\n",
        "    print(df_land_cover.info())\n",
        "else:\n",
        "    print(\"❌ Unable to load file with available encodings.\")\n"
      ],
      "metadata": {
        "colab": {
          "base_uri": "https://localhost:8080/"
        },
        "id": "93wiiQi4fQeM",
        "outputId": "c15321fe-6bfe-4fee-e311-46ede12b407a"
      },
      "execution_count": 8,
      "outputs": [
        {
          "output_type": "stream",
          "name": "stdout",
          "text": [
            "❌ Failed with encoding: utf-8\n",
            "✅ File loaded successfully using encoding: ISO-8859-1\n",
            "<class 'pandas.core.frame.DataFrame'>\n",
            "RangeIndex: 3538 entries, 0 to 3537\n",
            "Data columns (total 32 columns):\n",
            " #   Column                Non-Null Count  Dtype \n",
            "---  ------                --------------  ----- \n",
            " 0   Product ID            3538 non-null   object\n",
            " 1   Processed Map Year    3538 non-null   object\n",
            " 2   Tile Grid Region      3538 non-null   object\n",
            " 3   Tile Grid Horizontal  3538 non-null   object\n",
            " 4   Tile Grid Vertical    3538 non-null   object\n",
            " 5   Version               3538 non-null   object\n",
            " 6   Collection Number     3538 non-null   object\n",
            " 7   Datum                 3538 non-null   object\n",
            " 8   Map Projection        3538 non-null   object\n",
            " 9   Units                 3538 non-null   object\n",
            " 10  Center Latitude       3538 non-null   object\n",
            " 11  Center Longitude      3538 non-null   object\n",
            " 12  NW Corner Lat         3538 non-null   object\n",
            " 13  NW Corner Long        3538 non-null   object\n",
            " 14  NE Corner Lat         3538 non-null   object\n",
            " 15  NE Corner Long        3538 non-null   object\n",
            " 16  SE Corner Lat         3538 non-null   object\n",
            " 17  SE Corner Long        3538 non-null   object\n",
            " 18  SW Corner Lat         3538 non-null   object\n",
            " 19  SW Corner Long        3538 non-null   object\n",
            " 20  Center Latitude dec   3538 non-null   object\n",
            " 21  Center Longitude dec  3538 non-null   object\n",
            " 22  NW Corner Lat dec     3538 non-null   object\n",
            " 23  NW Corner Long dec    3538 non-null   object\n",
            " 24  NE Corner Lat dec     3538 non-null   object\n",
            " 25  NE Corner Long dec    3538 non-null   object\n",
            " 26  SE Corner Lat dec     3538 non-null   object\n",
            " 27  SE Corner Long dec    3538 non-null   object\n",
            " 28  SW Corner Lat dec     3538 non-null   object\n",
            " 29  SW Corner Long dec    3538 non-null   object\n",
            " 30  Display ID            3538 non-null   object\n",
            " 31  Entity ID             3538 non-null   object\n",
            "dtypes: object(32)\n",
            "memory usage: 884.6+ KB\n",
            "None\n"
          ]
        }
      ]
    },
    {
      "cell_type": "code",
      "source": [
        "# Update the file path to the correct location in Google Drive\n",
        "land_cover_dataset_path = \"/content/drive/My Drive/Capstone/nlcd_collection_lndcov_67b0a3fece0c2096.csv\"\n",
        "\n",
        "import pandas as pd\n",
        "\n",
        "# Load the MODIS Land Cover Dataset from Google Drive\n",
        "df_land_cover = pd.read_csv(land_cover_dataset_path, dtype=str, encoding=\"ISO-8859-1\")\n",
        "print(\"✅ Land Cover dataset loaded successfully!\")\n"
      ],
      "metadata": {
        "colab": {
          "base_uri": "https://localhost:8080/"
        },
        "id": "AazR9JZVgMWD",
        "outputId": "f9f70fc3-3d6c-40c9-8fe6-7343369d7b94"
      },
      "execution_count": 10,
      "outputs": [
        {
          "output_type": "stream",
          "name": "stdout",
          "text": [
            "✅ Land Cover dataset loaded successfully!\n"
          ]
        }
      ]
    },
    {
      "cell_type": "code",
      "source": [
        "import glob\n",
        "\n",
        "file_list = glob.glob(\"/content/drive/My Drive/Capstone/*.csv\")\n",
        "print(\"Available CSV files:\", file_list)\n"
      ],
      "metadata": {
        "colab": {
          "base_uri": "https://localhost:8080/"
        },
        "id": "zeh8yuhYgS0P",
        "outputId": "c72c9eea-b7ad-4244-92c6-7290c06f8fdd"
      },
      "execution_count": 11,
      "outputs": [
        {
          "output_type": "stream",
          "name": "stdout",
          "text": [
            "Available CSV files: ['/content/drive/My Drive/Capstone/final_subset.csv', '/content/drive/My Drive/Capstone/3931867_cleaned.csv', '/content/drive/My Drive/Capstone/unified_dataset.csv', '/content/drive/My Drive/Capstone/nlcd_collection_lndcov_67b0a3fece0c2096.csv']\n"
          ]
        }
      ]
    },
    {
      "cell_type": "code",
      "source": [
        "print(df_land_cover.info())\n",
        "print(df_land_cover.head())\n"
      ],
      "metadata": {
        "colab": {
          "base_uri": "https://localhost:8080/"
        },
        "id": "gNLy3G4OgaAE",
        "outputId": "0e7308ff-fcf4-4a0e-fd32-d4d5636a8ede"
      },
      "execution_count": 12,
      "outputs": [
        {
          "output_type": "stream",
          "name": "stdout",
          "text": [
            "<class 'pandas.core.frame.DataFrame'>\n",
            "RangeIndex: 3538 entries, 0 to 3537\n",
            "Data columns (total 32 columns):\n",
            " #   Column                Non-Null Count  Dtype \n",
            "---  ------                --------------  ----- \n",
            " 0   Product ID            3538 non-null   object\n",
            " 1   Processed Map Year    3538 non-null   object\n",
            " 2   Tile Grid Region      3538 non-null   object\n",
            " 3   Tile Grid Horizontal  3538 non-null   object\n",
            " 4   Tile Grid Vertical    3538 non-null   object\n",
            " 5   Version               3538 non-null   object\n",
            " 6   Collection Number     3538 non-null   object\n",
            " 7   Datum                 3538 non-null   object\n",
            " 8   Map Projection        3538 non-null   object\n",
            " 9   Units                 3538 non-null   object\n",
            " 10  Center Latitude       3538 non-null   object\n",
            " 11  Center Longitude      3538 non-null   object\n",
            " 12  NW Corner Lat         3538 non-null   object\n",
            " 13  NW Corner Long        3538 non-null   object\n",
            " 14  NE Corner Lat         3538 non-null   object\n",
            " 15  NE Corner Long        3538 non-null   object\n",
            " 16  SE Corner Lat         3538 non-null   object\n",
            " 17  SE Corner Long        3538 non-null   object\n",
            " 18  SW Corner Lat         3538 non-null   object\n",
            " 19  SW Corner Long        3538 non-null   object\n",
            " 20  Center Latitude dec   3538 non-null   object\n",
            " 21  Center Longitude dec  3538 non-null   object\n",
            " 22  NW Corner Lat dec     3538 non-null   object\n",
            " 23  NW Corner Long dec    3538 non-null   object\n",
            " 24  NE Corner Lat dec     3538 non-null   object\n",
            " 25  NE Corner Long dec    3538 non-null   object\n",
            " 26  SE Corner Lat dec     3538 non-null   object\n",
            " 27  SE Corner Long dec    3538 non-null   object\n",
            " 28  SW Corner Lat dec     3538 non-null   object\n",
            " 29  SW Corner Long dec    3538 non-null   object\n",
            " 30  Display ID            3538 non-null   object\n",
            " 31  Entity ID             3538 non-null   object\n",
            "dtypes: object(32)\n",
            "memory usage: 884.6+ KB\n",
            "None\n",
            "                               Product ID Processed Map Year Tile Grid Region  \\\n",
            "0  Annual_NLCD_H21V15_LndCov_1995_CU_C1V0               1995               CU   \n",
            "1  Annual_NLCD_H21V16_LndCov_1995_CU_C1V0               1995               CU   \n",
            "2  Annual_NLCD_H21V17_LndCov_1995_CU_C1V0               1995               CU   \n",
            "3  Annual_NLCD_H16V02_LndCov_1995_CU_C1V0               1995               CU   \n",
            "4  Annual_NLCD_H16V03_LndCov_1995_CU_C1V0               1995               CU   \n",
            "\n",
            "  Tile Grid Horizontal Tile Grid Vertical Version Collection Number     Datum  \\\n",
            "0                   21                 15       0                 1  WGS_1984   \n",
            "1                   21                 16       0                 1  WGS_1984   \n",
            "2                   21                 17       0                 1  WGS_1984   \n",
            "3                   16                  2       0                 1  WGS_1984   \n",
            "4                   16                  3       0                 1  WGS_1984   \n",
            "\n",
            "  Map Projection   Units  ... NW Corner Lat dec NW Corner Long dec  \\\n",
            "0      AEA_WGS84  METERS  ...        32.4824749         -89.743486   \n",
            "1      AEA_WGS84  METERS  ...        31.1385833        -89.8473055   \n",
            "2      AEA_WGS84  METERS  ...        29.7910194        -89.9477388   \n",
            "3      AEA_WGS84  METERS  ...        50.1372944        -98.2754943   \n",
            "4      AEA_WGS84  METERS  ...        48.7692443        -98.2271943   \n",
            "\n",
            "  NE Corner Lat dec NE Corner Long dec SE Corner Lat dec SE Corner Long dec  \\\n",
            "0        32.3826777         -88.144211        31.0401971        -88.2743554   \n",
            "1        31.0401971        -88.2743554        29.6939527        -88.4002666   \n",
            "2        29.6939527        -88.4002666        28.3433694        -88.5221471   \n",
            "3        50.1552777        -96.2142111        48.7867388        -96.2096638   \n",
            "4        48.7867388        -96.2096638        47.4259082        -96.2053027   \n",
            "\n",
            "  SW Corner Lat dec SW Corner Long dec  \\\n",
            "0        31.1385833        -89.8473055   \n",
            "1        29.7910194        -89.9477388   \n",
            "2        28.4391971        -90.0449499   \n",
            "3        48.7692443        -98.2271943   \n",
            "4        47.4088638        -98.1808999   \n",
            "\n",
            "                               Display ID Entity ID  \n",
            "0  Annual_NLCD_H21V15_LndCov_1995_CU_C1V0    100087  \n",
            "1  Annual_NLCD_H21V16_LndCov_1995_CU_C1V0    100321  \n",
            "2  Annual_NLCD_H21V17_LndCov_1995_CU_C1V0    100555  \n",
            "3  Annual_NLCD_H16V02_LndCov_1995_CU_C1V0     50947  \n",
            "4  Annual_NLCD_H16V03_LndCov_1995_CU_C1V0     51181  \n",
            "\n",
            "[5 rows x 32 columns]\n"
          ]
        }
      ]
    },
    {
      "cell_type": "code",
      "source": [
        "import pandas as pd\n",
        "from scipy.spatial import cKDTree\n",
        "\n",
        "\n",
        "unified_dataset_path = \"/content/drive/My Drive/Capstone/unified_dataset.csv\"\n",
        "land_cover_dataset_path = \"/content/drive/My Drive/Capstone/nlcd_collection_lndcov_67b0a3fece0c2096.csv\"\n",
        "final_unified_dataset_path = \"/content/drive/My Drive/Capstone/final_unified_dataset.csv\"\n",
        "\n",
        "\n",
        "from google.colab import drive\n",
        "drive.mount(\"/content/drive\", force_remount=True)\n",
        "\n",
        "\n",
        "import os\n",
        "if not os.path.exists(land_cover_dataset_path):\n",
        "    raise FileNotFoundError(f\"❌ File not found: {land_cover_dataset_path}\")\n",
        "\n",
        "print(\"✅ File found! Proceeding with data integration...\")\n",
        "\n",
        "#  Loading the Unified (Bird + Climate) Dataset\n",
        "df_unified = pd.read_csv(unified_dataset_path, dtype=str)\n",
        "\n",
        "# LoadING the MODIS Land Cover Dataset from Google Drive (IF THIS DOESN'T WORK - FIND DATASET THAT HAS LANDSCAPE CLASSES\n",
        "#     LIKE WATER, GRASSLAND OR FOREST OR USE A LOOK UP TABLE LATER) - CHECK WITH MARY IF SHE HAS ANY LAND DATA YET !!!!!\n",
        "\n",
        "df_land_cover = pd.read_csv(land_cover_dataset_path, dtype=str, encoding=\"ISO-8859-1\")\n",
        "\n",
        "# Standardize Date Formats\n",
        "df_unified[\"Date\"] = pd.to_datetime(df_unified[\"Date\"], errors=\"coerce\")\n",
        "df_land_cover[\"Processed Map Year\"] = pd.to_datetime(df_land_cover[\"Processed Map Year\"], format='%Y', errors=\"coerce\")\n",
        "\n",
        "# Convert Latitude & Longitude to Numeric\n",
        "df_unified[\"Latitude\"] = pd.to_numeric(df_unified[\"Latitude\"], errors=\"coerce\")\n",
        "df_unified[\"Longitude\"] = pd.to_numeric(df_unified[\"Longitude\"], errors=\"coerce\")\n",
        "df_land_cover[\"NW Corner Lat dec\"] = pd.to_numeric(df_land_cover[\"NW Corner Lat dec\"], errors=\"coerce\")\n",
        "df_land_cover[\"NW Corner Long dec\"] = pd.to_numeric(df_land_cover[\"NW Corner Long dec\"], errors=\"coerce\")\n",
        "\n",
        "# Remove missing values to ensure clean merging\n",
        "df_unified.dropna(subset=[\"Latitude\", \"Longitude\", \"Date\"], inplace=True)\n",
        "df_land_cover.dropna(subset=[\"NW Corner Lat dec\", \"NW Corner Long dec\", \"Processed Map Year\"], inplace=True)\n",
        "\n",
        "#  Use Nearest-Neighbor Matching (cKDTree) to Assign Land Cover Data\n",
        "def merge_nearest(df1, df2):\n",
        "    \"\"\"\n",
        "    Merges df1 (bird + climate data) with df2 (land cover data) based on nearest latitude/longitude.\n",
        "    \"\"\"\n",
        "    # Build a KDTree using land cover dataset\n",
        "    tree = cKDTree(df2[[\"NW Corner Lat dec\", \"NW Corner Long dec\"]].values)\n",
        "\n",
        "    # Find the nearest land cover point for each bird/climate observation\n",
        "    distances, indices = tree.query(df1[[\"Latitude\", \"Longitude\"]].values)\n",
        "\n",
        "    # Extract matching land cover data\n",
        "    df_land_cover_matched = df2.iloc[indices].reset_index(drop=True)\n",
        "\n",
        "    # Combine datasets\n",
        "    df_merged = pd.concat([df1.reset_index(drop=True), df_land_cover_matched], axis=1)\n",
        "\n",
        "    return df_merged\n",
        "\n",
        "# Merging the datasets using nearest-neighbor spatial matching\n",
        "df_final_unified = merge_nearest(df_unified, df_land_cover)\n",
        "\n",
        "# Save the updated dataset\n",
        "df_final_unified.to_csv(final_unified_dataset_path, index=False)\n",
        "\n",
        "print(f\"✅ Final Unified Dataset saved at: {final_unified_dataset_path}\")\n",
        "\n",
        "# Display dataset summary\n",
        "num_rows, num_columns = df_final_unified.shape\n",
        "print(f\"Total Rows: {num_rows}, Total Columns: {num_columns}\")\n",
        "\n",
        "# Show the first few rows to verify the merge\n",
        "print(\"\\nFirst few rows of the final unified dataset:\")\n",
        "print(df_final_unified.head())\n",
        "\n"
      ],
      "metadata": {
        "colab": {
          "base_uri": "https://localhost:8080/"
        },
        "id": "bl7z7ah2aKSr",
        "outputId": "8cbc6bb1-be56-4d5f-9f51-294ef899d61c"
      },
      "execution_count": 14,
      "outputs": [
        {
          "output_type": "stream",
          "name": "stdout",
          "text": [
            "Mounted at /content/drive\n",
            "✅ File found! Proceeding with data integration...\n",
            "✅ Final Unified Dataset saved at: /content/drive/My Drive/Capstone/final_unified_dataset.csv\n",
            "Total Rows: 6267847, Total Columns: 63\n",
            "\n",
            "First few rows of the final unified dataset:\n",
            "                         GLOBAL UNIQUE IDENTIFIER   COMMON NAME  \\\n",
            "0   URN:CornellLabOfOrnithology:EBIRD:OBS38907567  Ross's Goose   \n",
            "1  URN:CornellLabOfOrnithology:EBIRD:OBS131197093  Ross's Goose   \n",
            "2  URN:CornellLabOfOrnithology:EBIRD:OBS101398772  Ross's Goose   \n",
            "3  URN:CornellLabOfOrnithology:EBIRD:OBS103295589  Ross's Goose   \n",
            "4  URN:CornellLabOfOrnithology:EBIRD:OBS233214908  Ross's Goose   \n",
            "\n",
            "  SCIENTIFIC NAME OBSERVATION COUNT State   COUNTY COUNTY CODE LOCALITY ID  \\\n",
            "0    Anser rossii                 1    AL  Baldwin   US-AL-003     L367330   \n",
            "1    Anser rossii                 1    AL  Baldwin   US-AL-003    L1071772   \n",
            "2    Anser rossii                 1    AL  Baldwin   US-AL-003     L626326   \n",
            "3    Anser rossii                 1    AL  Baldwin   US-AL-003    L1041976   \n",
            "4    Anser rossii                 3    AL  Baldwin   US-AL-003    L2609432   \n",
            "\n",
            "  LOCALITY TYPE   Latitude  ...  NW Corner Lat dec NW Corner Long dec  \\\n",
            "0             P  30.680218  ...          31.040197         -88.274355   \n",
            "1             P  30.336472  ...          31.040197         -88.274355   \n",
            "2             H  30.252979  ...          31.040197         -88.274355   \n",
            "3             P  30.577448  ...          31.040197         -88.274355   \n",
            "4             P  30.408061  ...          31.040197         -88.274355   \n",
            "\n",
            "  NE Corner Lat dec NE Corner Long dec SE Corner Lat dec SE Corner Long dec  \\\n",
            "0        30.9195638        -86.7056333        29.5749332        -86.8568222   \n",
            "1        30.9195638        -86.7056333        29.5749332        -86.8568222   \n",
            "2        30.9195638        -86.7056333        29.5749332        -86.8568222   \n",
            "3        30.9195638        -86.7056333        29.5749332        -86.8568222   \n",
            "4        30.9195638        -86.7056333        29.5749332        -86.8568222   \n",
            "\n",
            "  SW Corner Lat dec SW Corner Long dec  \\\n",
            "0        29.6939527        -88.4002666   \n",
            "1        29.6939527        -88.4002666   \n",
            "2        29.6939527        -88.4002666   \n",
            "3        29.6939527        -88.4002666   \n",
            "4        29.6939527        -88.4002666   \n",
            "\n",
            "                               Display ID Entity ID  \n",
            "0  Annual_NLCD_H22V16_LndCov_2020_CU_C1V0     69458  \n",
            "1  Annual_NLCD_H22V16_LndCov_2020_CU_C1V0     69458  \n",
            "2  Annual_NLCD_H22V16_LndCov_2020_CU_C1V0     69458  \n",
            "3  Annual_NLCD_H22V16_LndCov_2020_CU_C1V0     69458  \n",
            "4  Annual_NLCD_H22V16_LndCov_2020_CU_C1V0     69458  \n",
            "\n",
            "[5 rows x 63 columns]\n"
          ]
        }
      ]
    },
    {
      "cell_type": "markdown",
      "source": [
        "ANALYSES"
      ],
      "metadata": {
        "id": "PIQbPM7wo-Ml"
      }
    },
    {
      "cell_type": "code",
      "source": [
        "#Verify Spatial Accuracy - Check if Latitude & Longitude values align correctly with MODIS data:\n",
        "import matplotlib.pyplot as plt\n",
        "\n",
        "plt.scatter(df_final_unified[\"Longitude\"], df_final_unified[\"Latitude\"], s=1, alpha=0.5)\n",
        "plt.xlabel(\"Longitude\")\n",
        "plt.ylabel(\"Latitude\")\n",
        "plt.title(\"Spatial Distribution of Unified Dataset\")\n",
        "plt.show()\n"
      ],
      "metadata": {
        "colab": {
          "base_uri": "https://localhost:8080/",
          "height": 472
        },
        "id": "Ef6GxtYyo9eQ",
        "outputId": "0e1896a0-89ca-493d-fc3f-be750a385f43"
      },
      "execution_count": 15,
      "outputs": [
        {
          "output_type": "display_data",
          "data": {
            "text/plain": [
              "<Figure size 640x480 with 1 Axes>"
            ],
            "image/png": "[encoded data removed]"
          },
          "metadata": {}
        }
      ]
    },
    {
      "cell_type": "code",
      "source": [
        "#Counting how many unique land cover entries were matched:\n",
        "print(\"Unique Land Cover Entries:\", df_final_unified[\"Display ID\"].nunique())\n"
      ],
      "metadata": {
        "colab": {
          "base_uri": "https://localhost:8080/"
        },
        "id": "5CnoBD68pHLx",
        "outputId": "7785d1c4-1d15-4025-d74d-39e494b92cb3"
      },
      "execution_count": 16,
      "outputs": [
        {
          "output_type": "stream",
          "name": "stdout",
          "text": [
            "Unique Land Cover Entries: 110\n"
          ]
        }
      ]
    },
    {
      "cell_type": "code",
      "source": [
        "##Tracking species movement over time:\n",
        "\n",
        "#Convert Date column to datetime format\n",
        "df_final_unified[\"Date\"] = pd.to_datetime(df_final_unified[\"Date\"], errors=\"coerce\")\n",
        "\n",
        "# Filter data for years between 1995 and 2025\n",
        "df_filtered = df_final_unified[(df_final_unified[\"Date\"].dt.year >= 1995) &\n",
        "                               (df_final_unified[\"Date\"].dt.year <= 2025)]\n",
        "\n",
        "# Tracking species movement over time\n",
        "df_filtered.groupby([\"Date\", \"COMMON NAME\"]).size().unstack().plot(figsize=(12,6))\n",
        "\n"
      ],
      "metadata": {
        "colab": {
          "base_uri": "https://localhost:8080/",
          "height": 521
        },
        "id": "3-345OR5pMhL",
        "outputId": "849085af-cbe1-4b67-9400-f76fd05c656f"
      },
      "execution_count": 21,
      "outputs": [
        {
          "output_type": "execute_result",
          "data": {
            "text/plain": [
              "<Axes: xlabel='Date'>"
            ]
          },
          "metadata": {},
          "execution_count": 21
        },
        {
          "output_type": "display_data",
          "data": {
            "text/plain": [
              "<Figure size 1200x600 with 1 Axes>"
            ],
            "image/png": "[encoded data removed]"
          },
          "metadata": {}
        }
      ]
    },
    {
      "cell_type": "code",
      "source": [
        "# Assessing climate impacts on migration:\n",
        "# Convert columns to numeric\n",
        "df_final_unified[\"TMAX\"] = pd.to_numeric(df_final_unified[\"TMAX\"], errors=\"coerce\")\n",
        "df_final_unified[\"OBSERVATION COUNT\"] = pd.to_numeric(df_final_unified[\"OBSERVATION COUNT\"], errors=\"coerce\")\n",
        "\n",
        "# Drop NaN values (if any)\n",
        "df_final_unified.dropna(subset=[\"TMAX\", \"OBSERVATION COUNT\"], inplace=True)\n",
        "\n",
        "# Reattempt the plot\n",
        "df_final_unified.groupby(\"TMAX\")[\"OBSERVATION COUNT\"].sum().plot(kind=\"bar\", figsize=(10,5))\n",
        "\n"
      ],
      "metadata": {
        "colab": {
          "base_uri": "https://localhost:8080/",
          "height": 514
        },
        "id": "wCrfG-vIqEEZ",
        "outputId": "8bcb1aed-07af-4350-8036-b6f278a7f107"
      },
      "execution_count": 20,
      "outputs": [
        {
          "output_type": "execute_result",
          "data": {
            "text/plain": [
              "<Axes: xlabel='TMAX'>"
            ]
          },
          "metadata": {},
          "execution_count": 20
        },
        {
          "output_type": "display_data",
          "data": {
            "text/plain": [
              "<Figure size 1000x500 with 1 Axes>"
            ],
            "image/png": "[encoded data removed]"
          },
          "metadata": {}
        }
      ]
    },
    {
      "cell_type": "markdown",
      "source": [
        "The analysis of TMAX (maximum temperature) vs. bird observation count reveals that bird activity peaks at moderate temperatures (around 38°F and 61°F), suggesting favorable migration or feeding conditions. Observations decline at extreme temperatures, with very low counts at 92°F and below freezing (28°F), indicating that birds likely avoid excessive heat and cold. These trends align with seasonal migration patterns, where birds are more active during spring and fall while reducing movement in harsh summer or winter conditions. This supports the idea that temperature significantly influences bird behavior and migration patterns, making climate a key factor in habitat selection and movement."
      ],
      "metadata": {
        "id": "hVxmx5_csZaI"
      }
    },
    {
      "cell_type": "code",
      "source": [
        "#Examining land cover along migration paths:\n",
        "df_final_unified[\"Display ID\"].value_counts().head(10)\n"
      ],
      "metadata": {
        "colab": {
          "base_uri": "https://localhost:8080/",
          "height": 424
        },
        "id": "O6e0nbitq_-s",
        "outputId": "fe0e58c2-1f6e-49fb-f941-a6b051f091b5"
      },
      "execution_count": 19,
      "outputs": [
        {
          "output_type": "execute_result",
          "data": {
            "text/plain": [
              "Display ID\n",
              "Annual_NLCD_H24V08_LndCov_2022_CU_C1V0    380518\n",
              "Annual_NLCD_H22V08_LndCov_2004_CU_C1V0    374352\n",
              "Annual_NLCD_H21V07_LndCov_2007_CU_C1V0    361270\n",
              "Annual_NLCD_H24V07_LndCov_2016_CU_C1V0    302828\n",
              "Annual_NLCD_H21V08_LndCov_2020_CU_C1V0    293713\n",
              "Annual_NLCD_H19V06_LndCov_2007_CU_C1V0    284676\n",
              "Annual_NLCD_H25V08_LndCov_2016_CU_C1V0    250713\n",
              "Annual_NLCD_H23V07_LndCov_1995_CU_C1V0    165144\n",
              "Annual_NLCD_H20V10_LndCov_2018_CU_C1V0    154079\n",
              "Annual_NLCD_H24V09_LndCov_2014_CU_C1V0    151291\n",
              "Name: count, dtype: int64"
            ],
            "text/html": [
              "<div>\n",
              "<style scoped>\n",
              "    .dataframe tbody tr th:only-of-type {\n",
              "        vertical-align: middle;\n",
              "    }\n",
              "\n",
              "    .dataframe tbody tr th {\n",
              "        vertical-align: top;\n",
              "    }\n",
              "\n",
              "    .dataframe thead th {\n",
              "        text-align: right;\n",
              "    }\n",
              "</style>\n",
              "<table border=\"1\" class=\"dataframe\">\n",
              "  <thead>\n",
              "    <tr style=\"text-align: right;\">\n",
              "      <th></th>\n",
              "      <th>count</th>\n",
              "    </tr>\n",
              "    <tr>\n",
              "      <th>Display ID</th>\n",
              "      <th></th>\n",
              "    </tr>\n",
              "  </thead>\n",
              "  <tbody>\n",
              "    <tr>\n",
              "      <th>Annual_NLCD_H24V08_LndCov_2022_CU_C1V0</th>\n",
              "      <td>380518</td>\n",
              "    </tr>\n",
              "    <tr>\n",
              "      <th>Annual_NLCD_H22V08_LndCov_2004_CU_C1V0</th>\n",
              "      <td>374352</td>\n",
              "    </tr>\n",
              "    <tr>\n",
              "      <th>Annual_NLCD_H21V07_LndCov_2007_CU_C1V0</th>\n",
              "      <td>361270</td>\n",
              "    </tr>\n",
              "    <tr>\n",
              "      <th>Annual_NLCD_H24V07_LndCov_2016_CU_C1V0</th>\n",
              "      <td>302828</td>\n",
              "    </tr>\n",
              "    <tr>\n",
              "      <th>Annual_NLCD_H21V08_LndCov_2020_CU_C1V0</th>\n",
              "      <td>293713</td>\n",
              "    </tr>\n",
              "    <tr>\n",
              "      <th>Annual_NLCD_H19V06_LndCov_2007_CU_C1V0</th>\n",
              "      <td>284676</td>\n",
              "    </tr>\n",
              "    <tr>\n",
              "      <th>Annual_NLCD_H25V08_LndCov_2016_CU_C1V0</th>\n",
              "      <td>250713</td>\n",
              "    </tr>\n",
              "    <tr>\n",
              "      <th>Annual_NLCD_H23V07_LndCov_1995_CU_C1V0</th>\n",
              "      <td>165144</td>\n",
              "    </tr>\n",
              "    <tr>\n",
              "      <th>Annual_NLCD_H20V10_LndCov_2018_CU_C1V0</th>\n",
              "      <td>154079</td>\n",
              "    </tr>\n",
              "    <tr>\n",
              "      <th>Annual_NLCD_H24V09_LndCov_2014_CU_C1V0</th>\n",
              "      <td>151291</td>\n",
              "    </tr>\n",
              "  </tbody>\n",
              "</table>\n",
              "</div><br><label><b>dtype:</b> int64</label>"
            ]
          },
          "metadata": {},
          "execution_count": 19
        }
      ]
    },
    {
      "cell_type": "code",
      "source": [],
      "metadata": {
        "id": "cD53BbVYrQYb"
      },
      "execution_count": null,
      "outputs": []
    }
  ]
}